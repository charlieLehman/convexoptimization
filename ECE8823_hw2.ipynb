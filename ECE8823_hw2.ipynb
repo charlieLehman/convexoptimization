{
  "nbformat": 4,
  "nbformat_minor": 0,
  "metadata": {
    "colab": {
      "name": "ECE8823_hw2.ipynb",
      "version": "0.3.2",
      "provenance": [],
      "collapsed_sections": [],
      "include_colab_link": true
    },
    "kernelspec": {
      "name": "python3",
      "display_name": "Python 3"
    }
  },
  "cells": [
    {
      "cell_type": "markdown",
      "metadata": {
        "id": "view-in-github",
        "colab_type": "text"
      },
      "source": [
        "<a href=\"https://colab.research.google.com/github/charlieLehman/convexoptimization/blob/master/ECE8823_hw2.ipynb\" target=\"_parent\"><img src=\"https://colab.research.google.com/assets/colab-badge.svg\" alt=\"Open In Colab\"/></a>"
      ]
    },
    {
      "metadata": {
        "id": "ogKGDcmci5WC",
        "colab_type": "text"
      },
      "cell_type": "markdown",
      "source": [
        "# 7"
      ]
    },
    {
      "metadata": {
        "id": "DKe5dg2iJqtR",
        "colab_type": "text"
      },
      "cell_type": "markdown",
      "source": [
        "## a)"
      ]
    },
    {
      "metadata": {
        "id": "2txitlDmJmdv",
        "colab_type": "code",
        "outputId": "8e918c02-e7dc-4b69-e835-8d1a2898c56c",
        "colab": {
          "base_uri": "https://localhost:8080/",
          "height": 197
        }
      },
      "cell_type": "code",
      "source": [
        "import numpy as np\n",
        "np.set_printoptions(precision=2, suppress=True)\n",
        "\n",
        "def make_sym_matrix(n,vals):\n",
        "    m = np.zeros([n,n], dtype=np.double)\n",
        "    xs,ys = np.triu_indices(n,k=0)\n",
        "    m[xs,ys] = vals\n",
        "    m[ys,xs] = vals\n",
        "    return m\n",
        "\n",
        "a12 = 2\n",
        "a13 = -1 \n",
        "a34 = 0.5\n",
        "a35 = -0.1\n",
        "\n",
        "cov_list = []\n",
        "cov_list.append(1) # cov(X1,X1)\n",
        "cov_list.append(a12) # cov(X1, a12*X1+E2)\n",
        "cov_list.append(a13)  # cov(X1, a13*X1+E3)\n",
        "cov_list.append(a13*a34) # cov(X1, a34*a13*X1+a34*E3+E4)\n",
        "cov_list.append(a13*a35) # cov(X1, a35*a13*X1+a35*E3+E5)\n",
        "cov_list.append(a12**2 + 1) #cov(a12*X1+E2, a12*X1+E2)\n",
        "cov_list.append(a12*a13) #cov(a12*X1+E2, a13*X1+E3)\n",
        "cov_list.append(a12*a13*a34) #cov(a12*X1+E2, a34*a13*X1+a34*E3+E4)\n",
        "cov_list.append(a12*a13*a35) #cov(a12*X1+E2, a35*a13*X1+a35*E3+E5)\n",
        "cov_list.append(a13**2 + 1) #cov(a13*X1+E3, a13*X1+E3)\n",
        "cov_list.append((a13**2)*a34 + a34) #cov(a13*X1+E3, a34*a13*X1+a34*E3+E4)\n",
        "cov_list.append((a13**2)*a35 + a35) #cov(a13*X1+E3, a35*a13*X1+a35*E3+E5)\n",
        "cov_list.append((a13**2)*(a34**2) + a34**2 + 1) #cov(a34*a13*X1+a34*E3+E4, a34*a13*X1+a34*E3+E4)\n",
        "cov_list.append((a13**2)*(a34*a35) + a34*a35) #cov(a34*a13*X1+a34*E3+E4, a35*a13*X1+a35*E3+E5)\n",
        "cov_list.append((a13**2)*(a35**2) + a35**2 + 1) #cov(a35*a13*X1+a35*E3+E5, a35*a13*X1+a35*E3+E5)\n",
        "\n",
        "R = make_sym_matrix(5,cov_list)\n",
        "print(R)\n",
        "S = np.linalg.inv(R)\n",
        "print(S)\n",
        "\n"
      ],
      "execution_count": 0,
      "outputs": [
        {
          "output_type": "stream",
          "text": [
            "[[ 1.    2.   -1.   -0.5   0.1 ]\n",
            " [ 2.    5.   -2.   -1.    0.2 ]\n",
            " [-1.   -2.    2.    1.   -0.2 ]\n",
            " [-0.5  -1.    1.    1.5  -0.1 ]\n",
            " [ 0.1   0.2  -0.2  -0.1   1.02]]\n",
            "[[ 6.   -2.    1.    0.    0.  ]\n",
            " [-2.    1.   -0.   -0.   -0.  ]\n",
            " [ 1.   -0.    1.26 -0.5   0.1 ]\n",
            " [ 0.    0.   -0.5   1.    0.  ]\n",
            " [ 0.   -0.    0.1   0.    1.  ]]\n"
          ],
          "name": "stdout"
        }
      ]
    },
    {
      "metadata": {
        "id": "knJk68GxJoGG",
        "colab_type": "text"
      },
      "cell_type": "markdown",
      "source": [
        "## b)"
      ]
    },
    {
      "metadata": {
        "id": "AjoKZecAyAMq",
        "colab_type": "code",
        "outputId": "249369f1-f6e0-4d74-89fc-56ccce455a17",
        "colab": {
          "base_uri": "https://localhost:8080/",
          "height": 215
        }
      },
      "cell_type": "code",
      "source": [
        "k = 1000\n",
        "a12 = 2\n",
        "a13 = -1 \n",
        "a34 = 0.5\n",
        "a35 = -0.1\n",
        "x = np.zeros((k,5))\n",
        "R_hat = np.zeros((5,5))\n",
        "mse = lambda x,y: ((x-y)**2).mean()\n",
        "E =  np.random.randn\n",
        "for kk in range(k):\n",
        "    x[kk, 0] = E()\n",
        "    x[kk, 1] = a12*x[kk, 0] + E()\n",
        "    x[kk, 2] = a13*x[kk, 0] + E()\n",
        "    x[kk, 3] = a34*x[kk, 2] + E()\n",
        "    x[kk, 4] = a35*x[kk, 2] + E()\n",
        "    _x = np.expand_dims(x[kk,:],1)\n",
        "    R_hat += _x@_x.T/k\n",
        "print(R_hat)\n",
        "S_hat = np.linalg.inv(R_hat)\n",
        "print(S_hat)\n",
        "print(mse(R,R_hat))"
      ],
      "execution_count": 0,
      "outputs": [
        {
          "output_type": "stream",
          "text": [
            "[[ 1.    1.97 -0.99 -0.49  0.11]\n",
            " [ 1.97  4.88 -1.94 -0.95  0.3 ]\n",
            " [-0.99 -1.94  1.94  0.96 -0.21]\n",
            " [-0.49 -0.95  0.96  1.4  -0.15]\n",
            " [ 0.11  0.3  -0.21 -0.15  0.98]]\n",
            "[[ 6.14 -2.05  1.11  0.    0.15]\n",
            " [-2.05  1.03 -0.03 -0.01 -0.08]\n",
            " [ 1.11 -0.03  1.34 -0.54  0.08]\n",
            " [ 0.   -0.01 -0.54  1.08  0.05]\n",
            " [ 0.15 -0.08  0.08  0.05  1.05]]\n",
            "0.0028538716719830994\n"
          ],
          "name": "stdout"
        }
      ]
    },
    {
      "metadata": {
        "id": "A6avxnM03a7J",
        "colab_type": "text"
      },
      "cell_type": "markdown",
      "source": [
        "## c)"
      ]
    },
    {
      "metadata": {
        "id": "aHjuqZubdoal",
        "colab_type": "code",
        "outputId": "d2ff0a96-6320-461a-f0e8-113c690725ee",
        "colab": {
          "base_uri": "https://localhost:8080/",
          "height": 215
        }
      },
      "cell_type": "code",
      "source": [
        "import cvxpy as cp\n",
        "\n",
        "X = cp.Variable((5,5), PSD=True)\n",
        "objective = cp.Minimize(-cp.log_det(X)+cp.trace(X@R_hat))\n",
        "constraints = [X[S==0]==0]\n",
        "prob = cp.Problem(objective, constraints)\n",
        "result = prob.solve()\n",
        "S_cvx = X.value\n",
        "R_cvx = np.linalg.inv(S_cvx)\n",
        "print(R_cvx)\n",
        "print(S_cvx)\n",
        "print(mse(R,R_cvx))"
      ],
      "execution_count": 0,
      "outputs": [
        {
          "output_type": "stream",
          "text": [
            "[[ 1.    1.97 -0.99 -0.49  0.11]\n",
            " [ 1.97  4.88 -1.96 -0.98  0.21]\n",
            " [-0.99 -1.96  1.94  0.96 -0.21]\n",
            " [-0.49 -0.98  0.96  1.4  -0.1 ]\n",
            " [ 0.11  0.21 -0.21 -0.1   0.98]]\n",
            "[[ 6.02 -2.01  1.05 -0.   -0.  ]\n",
            " [-2.01  1.02 -0.   -0.    0.  ]\n",
            " [ 1.05 -0.    1.33 -0.54  0.11]\n",
            " [-0.   -0.   -0.54  1.08 -0.  ]\n",
            " [-0.    0.    0.11 -0.    1.04]]\n",
            "0.001521376622772955\n"
          ],
          "name": "stdout"
        }
      ]
    }
  ]
}