{
 "cells": [
  {
   "cell_type": "markdown",
   "metadata": {},
   "source": [
    "# 1.\n"
   ]
  },
  {
   "cell_type": "markdown",
   "metadata": {},
   "source": [
    "# 2."
   ]
  },
  {
   "cell_type": "code",
   "execution_count": 4,
   "metadata": {},
   "outputs": [
    {
     "name": "stderr",
     "output_type": "stream",
     "text": [
      "/home/charlie/.virtualenvs/convexoptimization/lib/python3.7/site-packages/ipykernel_launcher.py:22: RuntimeWarning: invalid value encountered in log\n",
      "/home/charlie/.virtualenvs/convexoptimization/lib/python3.7/site-packages/ipykernel_launcher.py:29: RuntimeWarning: divide by zero encountered in log\n"
     ]
    },
    {
     "name": "stdout",
     "output_type": "stream",
     "text": [
      "Running HW3 p3\n"
     ]
    },
    {
     "data": {
      "image/png": "[encoded data removed]",
      "text/plain": [
       "<Figure size 432x288 with 2 Axes>"
      ]
     },
     "metadata": {
      "needs_background": "light"
     },
     "output_type": "display_data"
    }
   ],
   "source": [
    "from ece8823 import GradientDescent\n",
    "import matplotlib\n",
    "%matplotlib inline\n",
    "from matplotlib import pyplot as plt\n",
    "import numpy as np\n",
    "\n",
    "l,h = -2,2\n",
    "num_points = 250\n",
    "\n",
    "tau=100\n",
    "\n",
    "c = np.array([1,1], ndmin=2)\n",
    "am = np.array([[np.cos(m*np.pi/3), np.sin(m*np.pi/3)] for m in range(1,7)])\n",
    "x0 = np.array([0.,0.],ndmin=2).T\n",
    "k = 0\n",
    "tau=100\n",
    "\n",
    "x = y = np.linspace(l,h, num_points) \n",
    "xv, yv = np.meshgrid(x, y, indexing='xy')\n",
    "x_ = np.stack((xv,yv))\n",
    "xam = np.tensordot(am, x_, axes=[1,0])\n",
    "m = lambda tau: 1/tau*np.log(1-xam)\n",
    "_m = m(tau)\n",
    "_m[np.isnan(_m)] = -np.inf\n",
    "_m = _m.sum(0)\n",
    "z_ = x_.sum(0) - _m\n",
    "z = z_.reshape(num_points,num_points)\n",
    "\n",
    "f = lambda x: c@x - 1/tau*np.sum(np.log(np.maximum(1-am@x,0)))\n",
    "grad_f = lambda x: c - 1/tau*np.sum(-am/(1-am@x),0)\n",
    "\n",
    "params = {'HW3 p3':{\n",
    "    'name':'backtracking',\n",
    "    'f':f,\n",
    "    'grad_f':grad_f,\n",
    "    'alpha':0.001,\n",
    "    'beta':0.8,\n",
    "}}\n",
    "\n",
    "gd = GradientDescent(params)\n",
    "x_dict = gd.solve(x0,10000, 1e-4)\n",
    "x = x_dict['backtracking'].copy()\n",
    "k += gd.k\n",
    "plt.imshow(z, extent=[l,h,l,h], origin='lower', cmap='gray')\n",
    "plt.colorbar()\n",
    "plt.plot(x[0],x[1], marker='o', markersize=10, color=\"red\")\n",
    "plt.annotate('x_star', xy=(x[0],x[1]), xytext=(-1.5, -1.5),\n",
    "            arrowprops=dict(facecolor='red', shrink=0.05))\n",
    "plt.title('tau={} total_k={}'.format(tau, k))\n",
    "plt.show()"
   ]
  },
  {
   "cell_type": "code",
   "execution_count": null,
   "metadata": {},
   "outputs": [],
   "source": []
  }
 ],
 "metadata": {
  "kernelspec": {
   "display_name": "Python 3",
   "language": "python",
   "name": "python3"
  },
  "language_info": {
   "codemirror_mode": {
    "name": "ipython",
    "version": 3
   },
   "file_extension": ".py",
   "mimetype": "text/x-python",
   "name": "python",
   "nbconvert_exporter": "python",
   "pygments_lexer": "ipython3",
   "version": "3.7.2"
  }
 },
 "nbformat": 4,
 "nbformat_minor": 2
}
