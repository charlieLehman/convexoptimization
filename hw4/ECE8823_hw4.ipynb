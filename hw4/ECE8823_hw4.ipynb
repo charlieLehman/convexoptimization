{
 "cells": [
  {
   "cell_type": "markdown",
   "metadata": {},
   "source": [
    "# 1.\n"
   ]
  },
  {
   "cell_type": "markdown",
   "metadata": {},
   "source": [
    "# 2."
   ]
  },
  {
   "cell_type": "code",
   "execution_count": null,
   "metadata": {},
   "outputs": [
    {
     "name": "stderr",
     "output_type": "stream",
     "text": [
      "/home/charlie/.virtualenvs/convexoptimization/lib/python3.7/site-packages/ipykernel_launcher.py:24: RuntimeWarning: invalid value encountered in log\n",
      "/home/charlie/.virtualenvs/convexoptimization/lib/python3.7/site-packages/ipykernel_launcher.py:32: RuntimeWarning: divide by zero encountered in true_divide\n",
      "/home/charlie/.virtualenvs/convexoptimization/lib/python3.7/site-packages/ipykernel_launcher.py:31: RuntimeWarning: invalid value encountered in matmul\n",
      "/home/charlie/.virtualenvs/convexoptimization/lib/python3.7/site-packages/ipykernel_launcher.py:31: RuntimeWarning: divide by zero encountered in log\n",
      "/home/charlie/projects/convexoptimization/hw4/ece8823.py:78: RuntimeWarning: invalid value encountered in add\n",
      "  c2 = lambda t: self.f(self.x) + self.alpha*t*_dd\n"
     ]
    },
    {
     "name": "stdout",
     "output_type": "stream",
     "text": [
      "Running Backtracking\n"
     ]
    },
    {
     "name": "stderr",
     "output_type": "stream",
     "text": [
      "/home/charlie/projects/convexoptimization/hw4/ece8823.py:78: RuntimeWarning: invalid value encountered in multiply\n",
      "  c2 = lambda t: self.f(self.x) + self.alpha*t*_dd\n"
     ]
    }
   ],
   "source": [
    "from ece8823 import GradientDescent\n",
    "import matplotlib\n",
    "%matplotlib inline\n",
    "from matplotlib import pyplot as plt\n",
    "import numpy as np\n",
    "# import jtplot module in notebook\n",
    "from jupyterthemes import jtplot\n",
    "jtplot.style(context='talk', fscale=1.4, spines=False, gridlines='--')\n",
    "\n",
    "l,h = -2,2\n",
    "num_points = 250\n",
    "\n",
    "for tau in [100,500]:\n",
    "\n",
    "    c = np.array([1,1], ndmin=2)\n",
    "    A = np.array([[np.cos(m*np.pi/3), np.sin(m*np.pi/3)] for m in range(1,7)])\n",
    "    x0 = np.array([1.,0.],ndmin=2).T\n",
    "    k = 0\n",
    "\n",
    "    x = y = np.linspace(l,h, num_points) \n",
    "    xv, yv = np.meshgrid(x, y, indexing='xy')\n",
    "    x_ = np.stack((xv,yv))\n",
    "    xam = np.tensordot(A, x_, axes=[1,0])\n",
    "    m = lambda tau: 1/tau*np.log(1-xam)\n",
    "    _m = m(tau)\n",
    "    _m[np.isnan(_m)] = -np.inf\n",
    "    _m = _m.sum(0)\n",
    "    z_ = x_.sum(0) - _m\n",
    "    z = z_.reshape(num_points,num_points)\n",
    "\n",
    "    f = lambda x: c@x - 1/tau*np.sum(np.log(np.maximum(1-A@x,0)))\n",
    "    grad_f = lambda x: c - 1/tau*np.sum(-A/(1-A@x),0)\n",
    "    hess_f = lambda x: 1/tau*A.T@A/np.sum((1-A@x)**2)\n",
    "\n",
    "    params = {\n",
    "      'Backtracking':{ \n",
    "          'name':'backtracking', \n",
    "          'f':f, \n",
    "          'grad_f':grad_f, \n",
    "          'alpha':0.001, \n",
    "          'beta':0.8},\n",
    "        'Newtwon':{ \n",
    "            'name':'newton', \n",
    "            'f':f, \n",
    "            'grad_f':grad_f, \n",
    "            'hess_f':hess_f, \n",
    "        }\n",
    "    }\n",
    "\n",
    "    gd = GradientDescent(params)\n",
    "    results = gd.solve(x0,10000, 1e-4)\n",
    "    for technique, result  in results.items():\n",
    "        print(np.ceil(result['x']))\n",
    "        x, k = result['x']-np.ceil(result['x']), result['k']\n",
    "        plt.imshow(z, extent=[l,h,l,h], origin='lower', cmap='gray')\n",
    "        plt.colorbar()\n",
    "        plt.plot(x[0],x[1], marker='o', markersize=10, color=\"red\")\n",
    "        plt.annotate('x_star', xy=(x[0],x[1]), xytext=(-1.5, -1.5),\n",
    "                    arrowprops=dict(facecolor='red', shrink=0.05))\n",
    "        plt.title('{} tau={} total_k={}'.format(technique, tau, k))\n",
    "        plt.show()"
   ]
  },
  {
   "cell_type": "code",
   "execution_count": null,
   "metadata": {},
   "outputs": [],
   "source": []
  },
  {
   "cell_type": "code",
   "execution_count": null,
   "metadata": {},
   "outputs": [],
   "source": []
  },
  {
   "cell_type": "code",
   "execution_count": null,
   "metadata": {},
   "outputs": [],
   "source": []
  }
 ],
 "metadata": {
  "kernelspec": {
   "display_name": "Python 3",
   "language": "python",
   "name": "python3"
  },
  "language_info": {
   "codemirror_mode": {
    "name": "ipython",
    "version": 3
   },
   "file_extension": ".py",
   "mimetype": "text/x-python",
   "name": "python",
   "nbconvert_exporter": "python",
   "pygments_lexer": "ipython3",
   "version": "3.7.2"
  }
 },
 "nbformat": 4,
 "nbformat_minor": 2
}
